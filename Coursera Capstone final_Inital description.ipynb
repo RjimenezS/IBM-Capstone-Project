{
 "cells": [
  {
   "cell_type": "markdown",
   "metadata": {
    "collapsed": true
   },
   "source": [
    "# Santander and its neighborhoods"
   ]
  },
  {
   "cell_type": "markdown",
   "metadata": {},
   "source": [
    "## Introduction"
   ]
  },
  {
   "cell_type": "markdown",
   "metadata": {},
   "source": [
    "Santander is a small city in Northern Spain, that counts with slightly more than 200.000 inhabitants with an increasing old population and almost no industry or enterprise activity. The leading activity is the public administration and its university."
   ]
  },
  {
   "cell_type": "markdown",
   "metadata": {},
   "source": [
    "In the present blogpost, we briefly describe some of the results obtained in a study in which the city was cut into sections, and these compared among these through clustering. Such a tool could be used to detect imbalances in the distribution of activities that could be reduced by means of public policies."
   ]
  },
  {
   "cell_type": "markdown",
   "metadata": {},
   "source": [
    "The main conclusions of the study is that the small size, both in spatial extent and population, and the historic evolution of the city, already took care of a fair distribution of population and economic activity. However, the methodology proposed could be applied to other cities to explore possible imbalances and sketch remediation actions."
   ]
  },
  {
   "cell_type": "markdown",
   "metadata": {},
   "source": [
    "## Data and methods"
   ]
  },
  {
   "cell_type": "markdown",
   "metadata": {},
   "source": [
    "The data used for this project will be obtained from Foursquare (https://es.foursquare.com/) and from Santander Datos Abiertos (http://datos.santander.es/)). Information on businesses will be obtained from Foursquare, while Santander Datos Abiertos will provide information about administrative boundaries, zip codes, parking spaces per area and population. All the data is combined into a dataframe that contains all the explicative variables for every section of the city. The so formed dataset will be the working dataset for the project.\n",
    "\n",
    "A clustering algorithm will then be used to classify the different section into groups of similar sections. The total number of clusters will be selected in such a way that the clustering is compatible with the field experience, that is, ensuring that each cluster really represent a quantity and quality of activity that can be observed on the field. The information collected breaks the city of Santander into several sections."
   ]
  },
  {
   "cell_type": "code",
   "execution_count": null,
   "metadata": {},
   "outputs": [],
   "source": []
  }
 ],
 "metadata": {
  "kernelspec": {
   "display_name": "Python 3.6",
   "language": "python",
   "name": "python3"
  },
  "language_info": {
   "codemirror_mode": {
    "name": "ipython",
    "version": 3
   },
   "file_extension": ".py",
   "mimetype": "text/x-python",
   "name": "python",
   "nbconvert_exporter": "python",
   "pygments_lexer": "ipython3",
   "version": "3.6.9"
  }
 },
 "nbformat": 4,
 "nbformat_minor": 1
}
